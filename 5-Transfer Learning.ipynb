{
 "cells": [
  {
   "cell_type": "markdown",
   "metadata": {},
   "source": [
    "# Transfer learning\n",
    "Utilizar una red neuronal previamente entrenada y adaptarla para un dataset nuevo y diferente\n",
    "\n",
    "**Dependiendo de:**\n",
    "- El tamaño del nuevo data set\n",
    "- La similitud entre el dataset original y el nuevo\n",
    "\n",
    "**El aproach cambiara. Hay cuatro combinaciones:**\n",
    "- nuevo dataset pequeño y similares\n",
    "- nuevo dataset grande y similares\n",
    "- nuevo dataset pequeño y differentes\n",
    "- nuevo dataset grande y differentes"
   ]
  },
  {
   "cell_type": "markdown",
   "metadata": {},
   "source": [
    "![02-guide-how-transfer-learning-v3-01.png](02-guide-how-transfer-learning-v3-01.png)"
   ]
  },
  {
   "cell_type": "markdown",
   "metadata": {},
   "source": [
    "![02-guide-how-transfer-learning-v3-02.png](02-guide-how-transfer-learning-v3-02.png)"
   ]
  },
  {
   "cell_type": "markdown",
   "metadata": {},
   "source": [
    "- Primer capa detecta bordes \n",
    "- Segunda detecta formas básicas\n",
    "- Tercera detecta features"
   ]
  },
  {
   "cell_type": "markdown",
   "metadata": {},
   "source": [
    "## Nuevo dataset pequeño y similares clases"
   ]
  },
  {
   "cell_type": "markdown",
   "metadata": {},
   "source": [
    "- Quitar ultima capa/s (Salida de ultima etapa convolucional o luego de algunas capas densas)\n",
    "- Agregar capas densas\n",
    "- Congelar todos los pesos de la red y arrancar aleatoriamente los pesos de las capas densas\n",
    "- Entrenar la red para que actualice los pesos de las capas densas\n",
    "- Por que no se actualizan los pesos del resto de la red? (Dataset chico --> Overfitting)"
   ]
  },
  {
   "cell_type": "markdown",
   "metadata": {},
   "source": [
    "![02-guide-how-transfer-learning-v3-04.png](02-guide-how-transfer-learning-v3-04.png)"
   ]
  },
  {
   "cell_type": "markdown",
   "metadata": {},
   "source": [
    "## Nuevo dataset pequeño y differentes clases"
   ]
  },
  {
   "cell_type": "markdown",
   "metadata": {},
   "source": [
    "- Quitar el final de la red neuronal\n",
    "- Agregar capa densa y ajustar ultima etapa a que se ajuste a la cantidad de clases\n",
    "- Congelar todos los pesos de la red y arrancar aleatoriamente los pesos de las capas densas\n",
    "- Entrenar la red para que actualice los pesos de las capas densas"
   ]
  },
  {
   "cell_type": "markdown",
   "metadata": {},
   "source": [
    "![02-guide-how-transfer-learning-v3-06.png](02-guide-how-transfer-learning-v3-06.png)"
   ]
  },
  {
   "cell_type": "markdown",
   "metadata": {},
   "source": [
    "## Nuevo dataset grande y similares"
   ]
  },
  {
   "cell_type": "markdown",
   "metadata": {},
   "source": [
    "![02-guide-how-transfer-learning-v3-08.png](02-guide-how-transfer-learning-v3-08.png)"
   ]
  },
  {
   "cell_type": "markdown",
   "metadata": {},
   "source": [
    "- Ajustar ultima etapa a que se ajuste a la cantidad de clases\n",
    "- Iniciar los pesos de las capas densas aleatoriamente\n",
    "- Inicializar el resto utiliando los pesos pre entrenados\n",
    "- Re-entrenar toda la red"
   ]
  },
  {
   "cell_type": "markdown",
   "metadata": {},
   "source": [
    "# Nuevo dataset grande y differentes"
   ]
  },
  {
   "cell_type": "markdown",
   "metadata": {},
   "source": [
    "![02-guide-how-transfer-learning-v3-10.png](02-guide-how-transfer-learning-v3-10.png)"
   ]
  },
  {
   "cell_type": "markdown",
   "metadata": {},
   "source": [
    "Igual a caso anterior aunque si no funciona se puede probar de inicializar los pesos de algunas capas convolucionales aleatoriamente"
   ]
  }
 ],
 "metadata": {
  "kernelspec": {
   "display_name": "Python 3",
   "language": "python",
   "name": "python3"
  },
  "language_info": {
   "codemirror_mode": {
    "name": "ipython",
    "version": 3
   },
   "file_extension": ".py",
   "mimetype": "text/x-python",
   "name": "python",
   "nbconvert_exporter": "python",
   "pygments_lexer": "ipython3",
   "version": "3.6.2"
  }
 },
 "nbformat": 4,
 "nbformat_minor": 2
}
